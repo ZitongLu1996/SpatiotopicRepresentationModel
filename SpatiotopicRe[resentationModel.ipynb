{
 "cells": [
  {
   "cell_type": "code",
   "execution_count": 125,
   "id": "8614c742",
   "metadata": {},
   "outputs": [],
   "source": [
    "import numpy as np\n",
    "import matplotlib.image\n",
    "import matplotlib.pyplot as plt\n",
    "import h5py\n",
    "import math"
   ]
  },
  {
   "cell_type": "code",
   "execution_count": 10,
   "id": "268cad5d",
   "metadata": {},
   "outputs": [
    {
     "name": "stdout",
     "output_type": "stream",
     "text": [
      "18.102965072897327\n"
     ]
    }
   ],
   "source": [
    "# demo for Expt 1\n",
    "\n",
    "#print(xs, ys)\n",
    "#input2 = np.ones([1200, 1200])\n",
    "#print(input1.shape)\n",
    "#input2[400-ys:800-ys, 400+xs:800+xs] = input1\n",
    "#input3 = input2[400:800, 400:800]\n",
    "#input4 = np.transpose(np.tile(input3, (3, 1, 1)), (1, 2, 0))\n",
    "#print(input4)\n",
    "#matplotlib.image.imsave('test.jpg', np.array(input4, dtype=float))"
   ]
  },
  {
   "cell_type": "code",
   "execution_count": 31,
   "id": "83f92eb2",
   "metadata": {},
   "outputs": [
    {
     "data": {
      "image/png": "[encoded data removed]",
      "text/plain": [
       "<Figure size 432x288 with 1 Axes>"
      ]
     },
     "metadata": {
      "needs_background": "light"
     },
     "output_type": "display_data"
    }
   ],
   "source": [
    "import matplotlib.pyplot as plt\n",
    "\n",
    "def tanh(x):\n",
    "    return (1-(np.exp(0.5*x) - np.exp(-0.5*x)) / (np.exp(0.5*x) + np.exp(-0.5*x)))*50\n",
    "\n",
    "x = np.linspace(0, 20)\n",
    "y = tanh(x)\n",
    "\n",
    "plt.plot(x, y)\n",
    "plt.show()"
   ]
  },
  {
   "cell_type": "code",
   "execution_count": 32,
   "id": "f2fe0f00",
   "metadata": {},
   "outputs": [
    {
     "data": {
      "image/png": "[encoded data removed]",
      "text/plain": [
       "<Figure size 432x288 with 1 Axes>"
      ]
     },
     "metadata": {
      "needs_background": "light"
     },
     "output_type": "display_data"
    }
   ],
   "source": [
    "import matplotlib.pyplot as plt\n",
    "\n",
    "def tanh(x):\n",
    "    return (np.exp(0.5*x) - np.exp(-0.5*x)) / (np.exp(0.5*x) + np.exp(-0.5*x))*10\n",
    "\n",
    "x = np.linspace(0, 20)\n",
    "y = tanh(x)\n",
    "\n",
    "plt.plot(x, y)\n",
    "plt.show()"
   ]
  },
  {
   "cell_type": "code",
   "execution_count": 184,
   "id": "f5a25e52",
   "metadata": {},
   "outputs": [
    {
     "name": "stdout",
     "output_type": "stream",
     "text": [
      "[[1. 1. 1. ... 1. 1. 1.]\n",
      " [1. 1. 1. ... 1. 1. 1.]\n",
      " [1. 1. 1. ... 1. 1. 1.]\n",
      " ...\n",
      " [1. 1. 1. ... 1. 1. 1.]\n",
      " [1. 1. 1. ... 1. 1. 1.]\n",
      " [1. 1. 1. ... 1. 1. 1.]]\n",
      "[200 200]\n"
     ]
    }
   ],
   "source": [
    "DyState = 5\n",
    "input1 = np.average(matplotlib.image.imread('Inputs/f1A_leftbottom.jpg')/255, axis=2)\n",
    "saccade = np.array([-100, -50])\n",
    "noise_c = 5\n",
    "noise_retino_dy = (np.exp(0.5*DyState) - np.exp(-0.5*DyState)) / (np.exp(0.5*DyState) + np.exp(-0.5*DyState))*10\n",
    "def cal_M_reitno(Vinput, DyState, noise_c, M_retino_pre=None):\n",
    "    noise_retino_dy = (np.exp(0.5*DyState) - np.exp(-0.5*DyState)) / (np.exp(0.5*DyState) + np.exp(-0.5*DyState))*10\n",
    "    noise = noise_c + noise_retino_dy\n",
    "    x, y = Vinput.shape\n",
    "    Ms = np.ones([100, y, x])\n",
    "    for k in range(100):\n",
    "        index = 1 if np.random.rand()>0.5 else -1\n",
    "        randomx = index*(int(np.random.rand()*noise)) \n",
    "        randomy = index*(int(np.random.rand()*noise))\n",
    "        if randomx >= 0 and randomy >= 0:\n",
    "            Ms[k, randomy:, randomx:] = Vinput[:y-randomy, :x-randomx]\n",
    "        if randomx >= 0 and randomy < 0:\n",
    "            Ms[k, :y+randomy, randomx:] = Vinput[-randomy:, :x-randomx]\n",
    "        if randomx < 0 and randomy >= 0:\n",
    "            Ms[k, randomy:, :x+randomx] = Vinput[:y-randomy, -randomx:]\n",
    "        if randomx < 0 and randomy < 0:\n",
    "            Ms[k, :y+randomy, :x+randomx] = Vinput[-randomy:, -randomx:]\n",
    "    if M_retino_pre is None:\n",
    "        return np.average(Ms, axis=0)\n",
    "    else:\n",
    "        return np.average(Ms, axis=0) + 0.5*M_retino_pre - 0.5\n",
    "Mretino = cal_M_reitno(input1, DyState, noise_c)\n",
    "print(Mretino)\n",
    "Mretino = np.transpose(np.tile(Mretino, (3, 1, 1)), (1, 2, 0))\n",
    "matplotlib.image.imsave('test1.jpg', np.array(Mretino, dtype=float))\n",
    "noise_spatio_dy = (1-(np.exp(0.5*DyState) - np.exp(-0.5*DyState)) / (np.exp(0.5*DyState) + np.exp(-0.5*DyState)))*50\n",
    "def cal_M_spatio_withstimulus(M_spatio_pre, EyePositionInMSpatio, M_retino, DyState, saccade, noise_c):\n",
    "    xs, ys = saccade\n",
    "    y1, x1 = M_spatio_pre.shape\n",
    "    fx, fy = EyePositionInMSpatio\n",
    "    y2, x2 = M_retino.shape\n",
    "    sx = abs(xs)\n",
    "    sy = abs(ys)\n",
    "    if xs >= 0 and ys >= 0:\n",
    "        M1 = np.ones([y1-fy+sy+int(0.5*y2), fx+sx+int(0.5*x2)])\n",
    "        M2 = np.ones([y1-fy+sy+int(0.5*y2), fx+sx+int(0.5*x2)])\n",
    "        M1[-fy+sy+int(0.5*y2):, :x1] = M_spatio_pre\n",
    "        M2[:y2, fx+sx-int(0.5*x2):] = M_retino\n",
    "        NewEyePositionInMSpatio = np.array([fx+sx, int(0.5*y2)])\n",
    "    if xs >= 0 and ys < 0:\n",
    "        M1 = np.ones([fy+sy+int(0.5*y2), fx+sx+int(0.5*x2)])\n",
    "        M2 = np.ones([fy+sy+int(0.5*y2), fx+sx+int(0.5*x2)])\n",
    "        M1[:y1, :x1] = M_spatio_pre\n",
    "        M2[fy+sy-int(0.5*y2):, fx+sx-int(0.5*x2):] = M_retino\n",
    "        NewEyePositionInMSpatio = np.array([fx+sx, fy+sy])\n",
    "    if xs < 0 and ys >= 0:\n",
    "        M1 = np.ones([y1+sy-fy+int(0.5*y2), x1+sx-fx+int(0.5*x2)])\n",
    "        M2 = np.ones([y1+sy-fy+int(0.5*y2), x1+sx-fx+int(0.5*x2)])\n",
    "        M1[sy-fy+int(0.5*y2):, sx-fx+int(0.5*x2):] = M_spatio_pre\n",
    "        M2[:y2, :x2] = M_retino\n",
    "        NewEyePositionInMSpatio = np.array([int(0.5*x2), int(0.5*y2)])\n",
    "    if xs < 0 and ys < 0:\n",
    "        M1 = np.ones([fy+sy+int(0.5*y2), x1-fx+sx+int(0.5*x2)])\n",
    "        M2 = np.ones([fy+sy+int(0.5*y2), x1-fx+sx+int(0.5*x2)])\n",
    "        M1[:y1, -fx+sx+int(0.5*x2):] = M_spatio_pre\n",
    "        M2[fy+sy-int(0.5*y2):, :x2] = M_retino\n",
    "        NewEyePositionInMSpatio = np.array([int(0.5*x2), fy+sy])\n",
    "    M_avg = 0.5*(M1+M2)\n",
    "    y, x = M_avg.shape\n",
    "    Ms = np.ones([10, y, x])\n",
    "    noise_spatio_dy = (1-(np.exp(0.5*DyState) - np.exp(-0.5*DyState)) / (np.exp(0.5*DyState) + np.exp(-0.5*DyState)))*100\n",
    "    noise = noise_c + noise_spatio_dy\n",
    "    for k in range(10):\n",
    "        index = 1 if np.random.rand()>0.5 else -1\n",
    "        randomx = index*(int(np.random.rand()*noise)) \n",
    "        randomy = index*(int(np.random.rand()*noise))\n",
    "        if randomx >= 0 and randomy >= 0:\n",
    "            Ms[k, randomy:, randomx:] = M_avg[:y-randomy, :x-randomx]\n",
    "        if randomx >= 0 and randomy < 0:\n",
    "            Ms[k, :y+randomy, randomx:] = M_avg[-randomy:, :x-randomx]\n",
    "        if randomx < 0 and randomy >= 0:\n",
    "            Ms[k, randomy:, :x+randomx] = M_avg[:y-randomy, -randomx:]\n",
    "        if randomx < 0 and randomy < 0:\n",
    "            Ms[k, :y+randomy, :x+randomx] = M_avg[-randomy:, -randomx:]\n",
    "    return np.average(Ms, axis=0), NewEyePositionInMSpatio\n",
    "def cal_M_spatio_withoutstimulus(M_spatio_pre, EyePositionInMSpatio, M_retino, DyState, saccade, noise_c):\n",
    "    xs, ys = saccade\n",
    "    y1, x1 = M_spatio_pre.shape\n",
    "    fx, fy = EyePositionInMSpatio\n",
    "    y2, x2 = M_retino.shape\n",
    "    sx = abs(xs)\n",
    "    sy = abs(ys)\n",
    "    if xs >= 0 and ys >= 0:\n",
    "        M1 = np.ones([y1-fy+sy+int(0.5*y2), fx+sx+int(0.5*x2)])\n",
    "        M2 = np.ones([y1-fy+sy+int(0.5*y2), fx+sx+int(0.5*x2)])\n",
    "        M1[-fy+sy+int(0.5*y2):, :x1] = M_spatio_pre\n",
    "        M2[:y2, fx+sx-int(0.5*x2):] = M_retino\n",
    "        NewEyePositionInMSpatio = np.array([fx+sx, int(0.5*y2)])\n",
    "    if xs >= 0 and ys < 0:\n",
    "        M1 = np.ones([fy+sy+int(0.5*y2), fx+sx+int(0.5*x2)])\n",
    "        M2 = np.ones([fy+sy+int(0.5*y2), fx+sx+int(0.5*x2)])\n",
    "        M1[:y1, :x1] = M_spatio_pre\n",
    "        M2[fy+sy-int(0.5*y2):, fx+sx-int(0.5*x2):] = M_retino\n",
    "        NewEyePositionInMSpatio = np.array([fx+sx, fy+sy])\n",
    "    if xs < 0 and ys >= 0:\n",
    "        M1 = np.ones([y1+sy-fy+int(0.5*y2), x1+sx-fx+int(0.5*x2)])\n",
    "        M2 = np.ones([y1+sy-fy+int(0.5*y2), x1+sx-fx+int(0.5*x2)])\n",
    "        M1[sy-fy+int(0.5*y2):, sx-fx+int(0.5*x2):] = M_spatio_pre\n",
    "        M2[:y2, :x2] = M_retino\n",
    "        NewEyePositionInMSpatio = np.array([int(0.5*x2), int(0.5*y2)])\n",
    "    if xs < 0 and ys < 0:\n",
    "        M1 = np.ones([fy+sy+int(0.5*y2), x1-fx+sx+int(0.5*x2)])\n",
    "        M2 = np.ones([fy+sy+int(0.5*y2), x1-fx+sx+int(0.5*x2)])\n",
    "        M1[:y1, -fx+sx+int(0.5*x2):] = M_spatio_pre\n",
    "        M2[fy+sy-int(0.5*y2):, :x2] = M_retino\n",
    "        NewEyePositionInMSpatio = np.array([int(0.5*x2), fy+sy])\n",
    "    M_avg = M1+M2-1\n",
    "    y, x = M_avg.shape\n",
    "    Ms = np.ones([10, y, x])\n",
    "    noise_spatio_dy = (1-(np.exp(0.5*DyState) - np.exp(-0.5*DyState)) / (np.exp(0.5*DyState) + np.exp(-0.5*DyState)))*100\n",
    "    noise = noise_c + noise_spatio_dy\n",
    "    for k in range(10):\n",
    "        index = 1 if np.random.rand()>0.5 else -1\n",
    "        randomx = index*(int(np.random.rand()*noise)) \n",
    "        randomy = index*(int(np.random.rand()*noise))\n",
    "        if randomx >= 0 and randomy >= 0:\n",
    "            Ms[k, randomy:, randomx:] = M_avg[:y-randomy, :x-randomx]\n",
    "        if randomx >= 0 and randomy < 0:\n",
    "            Ms[k, :y+randomy, randomx:] = M_avg[-randomy:, :x-randomx]\n",
    "        if randomx < 0 and randomy >= 0:\n",
    "            Ms[k, randomy:, :x+randomx] = M_avg[:y-randomy, -randomx:]\n",
    "        if randomx < 0 and randomy < 0:\n",
    "            Ms[k, :y+randomy, :x+randomx] = M_avg[-randomy:, -randomx:]\n",
    "    return np.average(Ms, axis=0), NewEyePositionInMSpatio\n",
    "EyePositionInMSpatio = [200, 200]\n",
    "input2 = np.average(matplotlib.image.imread('Inputs/f1A_rightbottom.jpg')/255, axis=2)\n",
    "saccade = [-200, 0]\n",
    "DyState = 1\n",
    "Mspatio, EyePositionInMSpatio = cal_M_spatio_withstimulus(input1, EyePositionInMSpatio, input2, DyState, saccade, noise_c)\n",
    "print(EyePositionInMSpatio)\n",
    "Mspatio = np.transpose(np.tile(Mspatio, (3, 1, 1)), (1, 2, 0))\n",
    "matplotlib.image.imsave('test2.jpg', np.array(Mspatio, dtype=float))    "
   ]
  },
  {
   "cell_type": "code",
   "execution_count": 175,
   "id": "2b3607a6",
   "metadata": {},
   "outputs": [],
   "source": [
    "def generateImage(sinfo, retino_loc):\n",
    "    img = np.ones([440, 440])\n",
    "    if sinfo != '999':\n",
    "        s = np.average(matplotlib.image.imread(sinfo)/255, axis=2)\n",
    "        x, y = retino_loc\n",
    "        x = x + 220\n",
    "        y = 220 - y\n",
    "        img[y-50:y+50, x-50:x+50] = s\n",
    "    return img\n",
    "testimg = generateImage('Novel_Objects/G1/G120_resized.jpg', retino_loc=[-50, -50])\n",
    "testimg = np.transpose(np.tile(testimg, (3, 1, 1)), (1, 2, 0))\n",
    "\n",
    "matplotlib.image.imsave('test4.jpg', np.array(testimg, dtype=float)) "
   ]
  },
  {
   "cell_type": "code",
   "execution_count": 106,
   "id": "dd4cd5df",
   "metadata": {},
   "outputs": [],
   "source": [
    "def addfixation(img, fix_loc):\n",
    "    x, y = fix_loc\n",
    "    img[y-1:y+2, x-5:x+6] = 0\n",
    "    img[y-5:y+6, x-1:x+2] = 0\n",
    "    return img\n",
    "img = np.average(matplotlib.image.imread('test4.jpg')/255, axis=2)\n",
    "testimg = addfixation(img, fix_loc=[210, 210])\n",
    "testimg = np.transpose(np.tile(testimg, (3, 1, 1)), (1, 2, 0))\n",
    "matplotlib.image.imsave('test5.jpg', np.array(testimg, dtype=float)) "
   ]
  },
  {
   "cell_type": "code",
   "execution_count": 205,
   "id": "309e325d",
   "metadata": {},
   "outputs": [],
   "source": [
    "def run(Saccades, sinfo, slocs, filename):\n",
    "    # Saccades: [nts, 2] int-array, EyeMovements Saccades[0]=[0, 0]\n",
    "    # sinfo: [nts] str-array, stimuli's index\n",
    "    # slocs: [nts] int-array, stimuli's retinotopic location\n",
    "    nts = np.shape(Saccades)[0]\n",
    "    DyStates = np.zeros([nts], dtype=int)\n",
    "    noise_c = 5\n",
    "    inputs = np.zeros([nts, 440, 440])\n",
    "    EyePositionInMSpatio = np.zeros([nts, 2], dtype=int)\n",
    "    f_Mretino = h5py.File(filename + '_Mretino.h5', 'w')\n",
    "    f_Mspatio = h5py.File(filename + '_Mspatio.h5', 'w')\n",
    "    \n",
    "    # t = 0\n",
    "    DyStates[0] = 0\n",
    "    inputs[0] = generateImage(sinfo[0], slocs[0])\n",
    "    EyePositionInMSpatio[0] = np.array([220, 220])\n",
    "    extend = False\n",
    "    Mretino = cal_M_reitno(inputs[0], DyStates[0], noise_c, M_retino_pre=None)\n",
    "    Mspatio = Mretino\n",
    "    f_Mretino.create_dataset(str(0), data=Mretino)\n",
    "    f_Mspatio.create_dataset(str(0), data=Mspatio)\n",
    "    Mspatio1 = np.transpose(np.tile(Mspatio, (3, 1, 1)), (1, 2, 0))\n",
    "    matplotlib.image.imsave( filename+'0.jpg', np.array(Mspatio1, dtype=float))\n",
    "    \n",
    "    for t in range(nts-1):\n",
    "        hasSaccade = (Saccades[t+1, 0] != 0) or (Saccades[t+1, 1] != 0)\n",
    "        print(hasSaccade)\n",
    "        if hasSaccade == True:\n",
    "            DyStates[t+1] = DyStates[t] + 1\n",
    "        else:\n",
    "            DyStates[t+1] = DyStates[t]\n",
    "        inputs[t+1] = generateImage(sinfo[t+1], slocs[t+1])\n",
    "        Mretino = cal_M_reitno(inputs[t+1], DyStates[t+1], noise_c, M_retino_pre=np.array(f_Mretino[str(t)]))\n",
    "        f_Mretino.create_dataset(str(t+1), data=Mretino)\n",
    "        if extend is False:\n",
    "            if hasSaccade == True and (sinfo[t] != '999') and (sinfo[t+1] != '999'):\n",
    "                extend = True\n",
    "            else:\n",
    "                Mspatio = np.array(f_Mretino[str(t+1)])\n",
    "                EyePositionInMSpatio[t+1] = EyePositionInMSpatio[t]\n",
    "        if extend is True:\n",
    "            if (sinfo[t] != '999') and (sinfo[t+1] != '999'):\n",
    "                Mspatio, EyePositionInMSpatio[t+1] = cal_M_spatio_withstimulus(np.array(f_Mspatio[str(t)]), EyePositionInMSpatio[t], \n",
    "                                                                               Mretino, DyStates[t+1], saccades[t+1], noise_c)\n",
    "            else:\n",
    "                Mspatio, EyePositionInMSpatio[t+1] = cal_M_spatio_withoutstimulus(np.array(f_Mspatio[str(t)]), EyePositionInMSpatio[t], \n",
    "                                                                                  Mretino, DyStates[t+1], saccades[t+1], noise_c)\n",
    "        f_Mspatio.create_dataset(str(t+1), data=Mspatio)\n",
    "        # plot\n",
    "        Mspatio1 = np.transpose(np.tile(Mspatio, (3, 1, 1)), (1, 2, 0))\n",
    "        matplotlib.image.imsave( filename+str(t+1)+'.jpg', np.array(Mspatio1, dtype=float))\n",
    "    f_Mretino.close()\n",
    "    f_Mspatio.close()"
   ]
  },
  {
   "cell_type": "code",
   "execution_count": 207,
   "id": "6724ba2c",
   "metadata": {},
   "outputs": [
    {
     "name": "stdout",
     "output_type": "stream",
     "text": [
      "False\n",
      "True\n",
      "False\n",
      "True\n",
      "False\n",
      "True\n"
     ]
    }
   ],
   "source": [
    "saccades = np.array([[0, 0], [0, 0], [-100, 0], [0, 0], [100, 0], [0, 0], [-100, 0]])\n",
    "sinfo = np.array(['999', '999', '999', '999', '999', 'Novel_Objects/G1/G101_resized.jpg', 'Novel_Objects/G1/G101_resized.jpg'])\n",
    "slocs = np.array([[0, 0], [0, 0], [0, 0], [0, 0], [0, 0], [-150, -50], [-50, -50]])\n",
    "filename = 'test31_'\n",
    "run(saccades, sinfo, slocs, filename)"
   ]
  },
  {
   "cell_type": "code",
   "execution_count": 176,
   "id": "51cb318a",
   "metadata": {},
   "outputs": [],
   "source": [
    "def run2(Saccades, sinfo, slocs, filename):\n",
    "    # Saccades: [nts, 2] int-array, EyeMovements Saccades[0]=[0, 0]\n",
    "    # sinfo: [nts] str-array, stimuli's index\n",
    "    # slocs: [nts] int-array, stimuli's retinotopic location\n",
    "    nts = np.shape(Saccades)[0]\n",
    "    DyStates = np.zeros([nts], dtype=int)\n",
    "    noise_c = 5\n",
    "    inputs = np.zeros([nts, 440, 440])\n",
    "    EyePositionInMSpatio = np.zeros([nts, 2], dtype=int)\n",
    "    \n",
    "    # t = 0\n",
    "    DyStates[0] = 0\n",
    "    inputs[0] = generateImage(sinfo[0], slocs[0])\n",
    "    EyePositionInMSpatio[0] = np.array([220, 220])\n",
    "    extend = False\n",
    "    Mretino = cal_M_reitno(inputs[0], DyStates[0], noise_c, M_retino_pre=None)\n",
    "    Mspatio = Mretino\n",
    "    Mretino = np.transpose(np.tile(Mretino, (3, 1, 1)), (1, 2, 0))\n",
    "    matplotlib.image.imsave( filename+'0.jpg', np.array(Mretino, dtype=float))\n",
    "Saccades = np.array([[0, 0]])\n",
    "sinfo = np.array([['999']])\n",
    "slocs = np.array([[0, 0]])\n",
    "filename = 'test'\n",
    "run2(Saccades, sinfo, slocs, filename)"
   ]
  },
  {
   "cell_type": "code",
   "execution_count": null,
   "id": "0a2d3885",
   "metadata": {},
   "outputs": [],
   "source": []
  }
 ],
 "metadata": {
  "kernelspec": {
   "display_name": "Python 3 (ipykernel)",
   "language": "python",
   "name": "python3"
  },
  "language_info": {
   "codemirror_mode": {
    "name": "ipython",
    "version": 3
   },
   "file_extension": ".py",
   "mimetype": "text/x-python",
   "name": "python",
   "nbconvert_exporter": "python",
   "pygments_lexer": "ipython3",
   "version": "3.9.7"
  }
 },
 "nbformat": 4,
 "nbformat_minor": 5
}
